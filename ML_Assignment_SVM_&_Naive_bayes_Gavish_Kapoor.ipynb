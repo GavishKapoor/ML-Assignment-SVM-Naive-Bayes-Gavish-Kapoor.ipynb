{
  "nbformat": 4,
  "nbformat_minor": 0,
  "metadata": {
    "colab": {
      "provenance": [],
      "authorship_tag": "ABX9TyPUVymEmHHq1Y+A672IiNcP",
      "include_colab_link": true
    },
    "kernelspec": {
      "name": "python3",
      "display_name": "Python 3"
    },
    "language_info": {
      "name": "python"
    }
  },
  "cells": [
    {
      "cell_type": "markdown",
      "metadata": {
        "id": "view-in-github",
        "colab_type": "text"
      },
      "source": [
        "<a href=\"https://colab.research.google.com/github/GavishKapoor/ML-Assignment-SVM-Naive-Bayes-Gavish-Kapoor.ipynb/blob/main/ML_Assignment_SVM_%26_Naive_bayes_Gavish_Kapoor.ipynb\" target=\"_parent\"><img src=\"https://colab.research.google.com/assets/colab-badge.svg\" alt=\"Open In Colab\"/></a>"
      ]
    },
    {
      "cell_type": "markdown",
      "source": [
        "##  **SVM (Support Vector Machine) – Theory**"
      ],
      "metadata": {
        "id": "7_eLd_uQP0b9"
      }
    },
    {
      "cell_type": "markdown",
      "source": [
        "### 1. **What is a Support Vector Machine (SVM)?**\n",
        "\n",
        "SVM is a machine learning model used to **classify data** by finding the **best boundary (line or curve)** that separates classes.\n",
        "\n",
        "---\n",
        "\n",
        "### 2. **Hard Margin vs Soft Margin SVM:**\n",
        "\n",
        "* **Hard Margin**: No mistakes allowed (works only if data is perfectly separable).\n",
        "* **Soft Margin**: Allows some mistakes to avoid overfitting.\n",
        "\n",
        "---\n",
        "\n",
        "### 3. **Mathematical intuition behind SVM:**\n",
        "\n",
        "SVM finds the **maximum margin** between two classes. Margin = distance from the boundary to the closest points (support vectors).\n",
        "\n",
        "---\n",
        "\n",
        "### 4. **Role of Lagrange Multipliers in SVM:**\n",
        "\n",
        "They are used in SVM math to **optimize** the function and find the best decision boundary.\n",
        "\n",
        "---\n",
        "\n",
        "### 5. **What are Support Vectors?**\n",
        "\n",
        "They are the **data points closest to the boundary**. They help define the margin.\n",
        "\n",
        "---\n",
        "\n",
        "### 6. **What is Support Vector Classifier (SVC)?**\n",
        "\n",
        "It’s the **classification version of SVM** that separates classes using a line or curve.\n",
        "\n",
        "---\n",
        "\n",
        "### 7. **What is Support Vector Regressor (SVR)?**\n",
        "\n",
        "SVR is used to **predict numbers**, just like regression, but using the SVM method.\n",
        "\n",
        "---\n",
        "\n",
        "### 8. **What is the Kernel Trick?**\n",
        "\n",
        "It lets SVM draw **curved boundaries** by converting data into a higher dimension.\n",
        "\n",
        "---\n",
        "\n",
        "### 9. **Compare Linear, Polynomial, and RBF Kernels:**\n",
        "\n",
        "* **Linear**: Straight line\n",
        "* **Polynomial**: Curved, shaped like a curve or wave\n",
        "* **RBF (Gaussian)**: Complex boundary that adapts to the data shape\n",
        "\n",
        "---\n",
        "\n",
        "### 10. **Effect of the C parameter in SVM:**\n",
        "\n",
        "* **Small C**: Larger margin, more errors allowed (simpler model)\n",
        "* **Big C**: Tries to classify everything correctly (can overfit)\n",
        "\n",
        "---\n",
        "\n",
        "### 11. **Role of Gamma in RBF Kernel:**\n",
        "\n",
        "* **Low Gamma**: Smoother decision boundary\n",
        "* **High Gamma**: More complex, fits training data tightly\n",
        "\n",
        "\n",
        "### 12. **What is Naïve Bayes? Why \"Naïve\"?**\n",
        "\n",
        "Naïve Bayes is a classification model based on **Bayes' Theorem**.\n",
        "It is called “naïve” because it **assumes all features are independent** (which is rarely true).\n",
        "\n",
        "---\n",
        "\n",
        "### 13. **What is Bayes’ Theorem?**\n",
        "\n",
        "$$\n",
        "P(A|B) = \\frac{P(B|A) \\cdot P(A)}{P(B)}\n",
        "$$\n",
        "\n",
        "It helps us **calculate the probability of a class** given the features.\n",
        "\n",
        "---\n",
        "\n",
        "### 14. **Differences: Gaussian, Multinomial, Bernoulli Naïve Bayes:**\n",
        "\n",
        "* **Gaussian**: For **numbers** (continuous data)\n",
        "* **Multinomial**: For **counts** (like word counts in text)\n",
        "* **Bernoulli**: For **binary data** (yes/no, 0/1)\n",
        "\n",
        "---\n",
        "\n",
        "### 15. **When to use Gaussian Naïve Bayes?**\n",
        "\n",
        "Use it when features are **numerical** and follow a **normal distribution**.\n",
        "\n",
        "---\n",
        "\n",
        "### 16. **Key assumptions of Naïve Bayes:**\n",
        "\n",
        "* All features are **independent**\n",
        "* Each feature contributes **equally** to the outcome\n",
        "\n",
        "---\n",
        "\n",
        "### 17. **Advantages & Disadvantages of Naïve Bayes:**\n",
        "\n",
        ". Fast, simple, works well with small data\n",
        ".Assumes independence (not true in real life)\n",
        "\n",
        "---\n",
        "\n",
        "### 18. **Why is Naïve Bayes good for text classification?**\n",
        "\n",
        "Because it handles **word counts**, is **fast**, and doesn’t need a lot of training data.\n",
        "\n",
        "---\n",
        "\n",
        "### 19. **SVM vs Naïve Bayes for classification:**\n",
        "\n",
        "| SVM                          | Naïve Bayes            |\n",
        "| ---------------------------- | ---------------------- |\n",
        "| Works well with complex data | Fast and good for text |\n",
        "| Slower to train              | Very fast              |\n",
        "| Needs tuning                 | Few parameters         |\n",
        "\n",
        "---\n",
        "\n",
        "### 20. **What is Laplace Smoothing in Naïve Bayes?**\n",
        "\n",
        "It **adds 1** to every count to avoid zero probability (useful when a word wasn’t seen in training).\n"
      ],
      "metadata": {
        "id": "r_-SCvYfPY3k"
      }
    },
    {
      "cell_type": "code",
      "execution_count": 1,
      "metadata": {
        "id": "xaksUt06PWU2",
        "colab": {
          "base_uri": "https://localhost:8080/"
        },
        "outputId": "68a00202-7298-46f0-cbdf-8a4f7ffe94b4"
      },
      "outputs": [
        {
          "output_type": "stream",
          "name": "stdout",
          "text": [
            "Accuracy: 0.9473684210526315\n"
          ]
        }
      ],
      "source": [
        "#1\n",
        "from sklearn.datasets import load_iris\n",
        "from sklearn.svm import SVC\n",
        "from sklearn.model_selection import train_test_split\n",
        "from sklearn.metrics import accuracy_score\n",
        "\n",
        "X, y = load_iris(return_X_y=True)\n",
        "X_train, X_test, y_train, y_test = train_test_split(X, y)\n",
        "\n",
        "model = SVC()\n",
        "model.fit(X_train, y_train)\n",
        "print(\"Accuracy:\", accuracy_score(y_test, model.predict(X_test)))\n"
      ]
    },
    {
      "cell_type": "code",
      "source": [
        "#2\n",
        "from sklearn.datasets import load_wine\n",
        "X, y = load_wine(return_X_y=True)\n",
        "\n",
        "for kernel in ['linear', 'rbf']:\n",
        "    model = SVC(kernel=kernel)\n",
        "    model.fit(X, y)\n",
        "    print(f\"{kernel} kernel accuracy:\", model.score(X, y))\n"
      ],
      "metadata": {
        "id": "Bl6KuCOJQUXe",
        "colab": {
          "base_uri": "https://localhost:8080/"
        },
        "outputId": "0b0aaf45-08d1-4418-cb09-febb2dad7148"
      },
      "execution_count": 2,
      "outputs": [
        {
          "output_type": "stream",
          "name": "stdout",
          "text": [
            "linear kernel accuracy: 0.9943820224719101\n",
            "rbf kernel accuracy: 0.7078651685393258\n"
          ]
        }
      ]
    },
    {
      "cell_type": "code",
      "source": [
        "#3\n",
        "from sklearn.datasets import fetch_california_housing\n",
        "from sklearn.svm import SVR\n",
        "from sklearn.metrics import mean_squared_error\n",
        "\n",
        "data = fetch_california_housing()\n",
        "X_train, X_test, y_train, y_test = train_test_split(data.data, data.target)\n",
        "model = SVR()\n",
        "model.fit(X_train, y_train)\n",
        "y_pred = model.predict(X_test)\n",
        "print(\"MSE:\", mean_squared_error(y_test, y_pred))\n"
      ],
      "metadata": {
        "colab": {
          "base_uri": "https://localhost:8080/"
        },
        "id": "hodsf213Rbhp",
        "outputId": "3a604ad5-fc24-472d-85f3-d0453fde859e"
      },
      "execution_count": 3,
      "outputs": [
        {
          "output_type": "stream",
          "name": "stdout",
          "text": [
            "MSE: 1.3617311515552868\n"
          ]
        }
      ]
    },
    {
      "cell_type": "code",
      "source": [
        "#4\n",
        "from sklearn.datasets import make_classification\n",
        "import matplotlib.pyplot as plt\n",
        "import numpy as np\n",
        "\n",
        "X, y = make_classification(n_features=2, n_redundant=0, n_classes=2)\n",
        "model = SVC(kernel='poly', degree=3)\n",
        "model.fit(X, y)\n",
        "\n",
        "# Plot decision boundary\n",
        "xx, yy = np.meshgrid(np.linspace(X[:, 0].min(), X[:, 0].max()),\n",
        "                     np.linspace(X[:, 1].min(), X[:, 1].max()))\n",
        "zz = model.predict(np.c_[xx.ravel(), yy.ravel()])\n",
        "zz = zz.reshape(xx.shape)\n",
        "\n",
        "plt.contourf(xx, yy, zz, alpha=0.3)\n",
        "plt.scatter(X[:, 0], X[:, 1], c=y)\n",
        "plt.title(\"SVM with Polynomial Kernel\")\n",
        "plt.show()\n"
      ],
      "metadata": {
        "colab": {
          "base_uri": "https://localhost:8080/",
          "height": 452
        },
        "id": "8itmQLaZRdiG",
        "outputId": "6de49110-597e-47f3-bf4c-56b9ee15ebcc"
      },
      "execution_count": 4,
      "outputs": [
        {
          "output_type": "display_data",
          "data": {
            "text/plain": [
              "<Figure size 640x480 with 1 Axes>"
            ],
            "image/png": "[encoded data removed]"
          },
          "metadata": {}
        }
      ]
    },
    {
      "cell_type": "code",
      "source": [
        "# 5\n",
        "#for C in [0.1, 1, 10]:\n",
        "#    model = SVC(C=C)\n",
        "#    model.fit(X_train, y_train)\n",
        "#    print(f\"C={C}, Accuracy:\", model.score(X_test, y_test))\n"
      ],
      "metadata": {
        "id": "f3dbw1Q4Rfxr"
      },
      "execution_count": 6,
      "outputs": []
    },
    {
      "cell_type": "code",
      "source": [
        "#6\n",
        "from sklearn.preprocessing import StandardScaler\n",
        "\n",
        "scaler = StandardScaler()\n",
        "X_scaled = scaler.fit_transform(X)\n",
        "\n",
        "model = SVC()\n",
        "model.fit(X_scaled, y)\n",
        "print(\"Accuracy after scaling:\", model.score(X_scaled, y))\n"
      ],
      "metadata": {
        "colab": {
          "base_uri": "https://localhost:8080/"
        },
        "id": "rMT6wLmnRjYv",
        "outputId": "02246329-b676-4f37-f395-eb0eeaeccbdb"
      },
      "execution_count": 7,
      "outputs": [
        {
          "output_type": "stream",
          "name": "stdout",
          "text": [
            "Accuracy after scaling: 0.96\n"
          ]
        }
      ]
    },
    {
      "cell_type": "code",
      "source": [
        "#7\n",
        "#from sklearn.model_selection import GridSearchCV\n",
        "\n",
        "#param_grid = {\n",
        "#    'C': [0.1, 1, 10],\n",
        "#    'gamma': ['scale', 0.01],\n",
        "#    'kernel': ['linear', 'rbf']\n",
        "#}\n",
        "\n",
        "#grid = GridSearchCV(SVC(), param_grid, cv=3)\n",
        "#grid.fit(X_train, y_train)\n",
        "\n",
        "#print(\"Best Params:\", grid.best_params_)\n"
      ],
      "metadata": {
        "id": "l01WHZM6Rq5c"
      },
      "execution_count": 9,
      "outputs": []
    },
    {
      "cell_type": "code",
      "source": [
        "#8\n",
        "#model = SVC(class_weight='balanced')\n",
        "#model.fit(X_train, y_train)\n",
        "#print(\"Accuracy:\", model.score(X_test, y_test))\n"
      ],
      "metadata": {
        "colab": {
          "base_uri": "https://localhost:8080/",
          "height": 321
        },
        "id": "KmPIgciPRtzU",
        "outputId": "87d01b4f-8626-4412-ba25-8e73ed3a793f"
      },
      "execution_count": 10,
      "outputs": [
        {
          "output_type": "error",
          "ename": "ValueError",
          "evalue": "Unknown label type: continuous. Maybe you are trying to fit a classifier, which expects discrete classes on a regression target with continuous values.",
          "traceback": [
            "\u001b[0;31m---------------------------------------------------------------------------\u001b[0m",
            "\u001b[0;31mValueError\u001b[0m                                Traceback (most recent call last)",
            "\u001b[0;32m/tmp/ipython-input-10-3909145299.py\u001b[0m in \u001b[0;36m<cell line: 0>\u001b[0;34m()\u001b[0m\n\u001b[1;32m      1\u001b[0m \u001b[0mmodel\u001b[0m \u001b[0;34m=\u001b[0m \u001b[0mSVC\u001b[0m\u001b[0;34m(\u001b[0m\u001b[0mclass_weight\u001b[0m\u001b[0;34m=\u001b[0m\u001b[0;34m'balanced'\u001b[0m\u001b[0;34m)\u001b[0m\u001b[0;34m\u001b[0m\u001b[0;34m\u001b[0m\u001b[0m\n\u001b[0;32m----> 2\u001b[0;31m \u001b[0mmodel\u001b[0m\u001b[0;34m.\u001b[0m\u001b[0mfit\u001b[0m\u001b[0;34m(\u001b[0m\u001b[0mX_train\u001b[0m\u001b[0;34m,\u001b[0m \u001b[0my_train\u001b[0m\u001b[0;34m)\u001b[0m\u001b[0;34m\u001b[0m\u001b[0;34m\u001b[0m\u001b[0m\n\u001b[0m\u001b[1;32m      3\u001b[0m \u001b[0mprint\u001b[0m\u001b[0;34m(\u001b[0m\u001b[0;34m\"Accuracy:\"\u001b[0m\u001b[0;34m,\u001b[0m \u001b[0mmodel\u001b[0m\u001b[0;34m.\u001b[0m\u001b[0mscore\u001b[0m\u001b[0;34m(\u001b[0m\u001b[0mX_test\u001b[0m\u001b[0;34m,\u001b[0m \u001b[0my_test\u001b[0m\u001b[0;34m)\u001b[0m\u001b[0;34m)\u001b[0m\u001b[0;34m\u001b[0m\u001b[0;34m\u001b[0m\u001b[0m\n",
            "\u001b[0;32m/usr/local/lib/python3.11/dist-packages/sklearn/base.py\u001b[0m in \u001b[0;36mwrapper\u001b[0;34m(estimator, *args, **kwargs)\u001b[0m\n\u001b[1;32m   1387\u001b[0m                 )\n\u001b[1;32m   1388\u001b[0m             ):\n\u001b[0;32m-> 1389\u001b[0;31m                 \u001b[0;32mreturn\u001b[0m \u001b[0mfit_method\u001b[0m\u001b[0;34m(\u001b[0m\u001b[0mestimator\u001b[0m\u001b[0;34m,\u001b[0m \u001b[0;34m*\u001b[0m\u001b[0margs\u001b[0m\u001b[0;34m,\u001b[0m \u001b[0;34m**\u001b[0m\u001b[0mkwargs\u001b[0m\u001b[0;34m)\u001b[0m\u001b[0;34m\u001b[0m\u001b[0;34m\u001b[0m\u001b[0m\n\u001b[0m\u001b[1;32m   1390\u001b[0m \u001b[0;34m\u001b[0m\u001b[0m\n\u001b[1;32m   1391\u001b[0m         \u001b[0;32mreturn\u001b[0m \u001b[0mwrapper\u001b[0m\u001b[0;34m\u001b[0m\u001b[0;34m\u001b[0m\u001b[0m\n",
            "\u001b[0;32m/usr/local/lib/python3.11/dist-packages/sklearn/svm/_base.py\u001b[0m in \u001b[0;36mfit\u001b[0;34m(self, X, y, sample_weight)\u001b[0m\n\u001b[1;32m    205\u001b[0m             )\n\u001b[1;32m    206\u001b[0m \u001b[0;34m\u001b[0m\u001b[0m\n\u001b[0;32m--> 207\u001b[0;31m         \u001b[0my\u001b[0m \u001b[0;34m=\u001b[0m \u001b[0mself\u001b[0m\u001b[0;34m.\u001b[0m\u001b[0m_validate_targets\u001b[0m\u001b[0;34m(\u001b[0m\u001b[0my\u001b[0m\u001b[0;34m)\u001b[0m\u001b[0;34m\u001b[0m\u001b[0;34m\u001b[0m\u001b[0m\n\u001b[0m\u001b[1;32m    208\u001b[0m \u001b[0;34m\u001b[0m\u001b[0m\n\u001b[1;32m    209\u001b[0m         sample_weight = np.asarray(\n",
            "\u001b[0;32m/usr/local/lib/python3.11/dist-packages/sklearn/svm/_base.py\u001b[0m in \u001b[0;36m_validate_targets\u001b[0;34m(self, y)\u001b[0m\n\u001b[1;32m    745\u001b[0m     \u001b[0;32mdef\u001b[0m \u001b[0m_validate_targets\u001b[0m\u001b[0;34m(\u001b[0m\u001b[0mself\u001b[0m\u001b[0;34m,\u001b[0m \u001b[0my\u001b[0m\u001b[0;34m)\u001b[0m\u001b[0;34m:\u001b[0m\u001b[0;34m\u001b[0m\u001b[0;34m\u001b[0m\u001b[0m\n\u001b[1;32m    746\u001b[0m         \u001b[0my_\u001b[0m \u001b[0;34m=\u001b[0m \u001b[0mcolumn_or_1d\u001b[0m\u001b[0;34m(\u001b[0m\u001b[0my\u001b[0m\u001b[0;34m,\u001b[0m \u001b[0mwarn\u001b[0m\u001b[0;34m=\u001b[0m\u001b[0;32mTrue\u001b[0m\u001b[0;34m)\u001b[0m\u001b[0;34m\u001b[0m\u001b[0;34m\u001b[0m\u001b[0m\n\u001b[0;32m--> 747\u001b[0;31m         \u001b[0mcheck_classification_targets\u001b[0m\u001b[0;34m(\u001b[0m\u001b[0my\u001b[0m\u001b[0;34m)\u001b[0m\u001b[0;34m\u001b[0m\u001b[0;34m\u001b[0m\u001b[0m\n\u001b[0m\u001b[1;32m    748\u001b[0m         \u001b[0mcls\u001b[0m\u001b[0;34m,\u001b[0m \u001b[0my\u001b[0m \u001b[0;34m=\u001b[0m \u001b[0mnp\u001b[0m\u001b[0;34m.\u001b[0m\u001b[0munique\u001b[0m\u001b[0;34m(\u001b[0m\u001b[0my_\u001b[0m\u001b[0;34m,\u001b[0m \u001b[0mreturn_inverse\u001b[0m\u001b[0;34m=\u001b[0m\u001b[0;32mTrue\u001b[0m\u001b[0;34m)\u001b[0m\u001b[0;34m\u001b[0m\u001b[0;34m\u001b[0m\u001b[0m\n\u001b[1;32m    749\u001b[0m         \u001b[0mself\u001b[0m\u001b[0;34m.\u001b[0m\u001b[0mclass_weight_\u001b[0m \u001b[0;34m=\u001b[0m \u001b[0mcompute_class_weight\u001b[0m\u001b[0;34m(\u001b[0m\u001b[0mself\u001b[0m\u001b[0;34m.\u001b[0m\u001b[0mclass_weight\u001b[0m\u001b[0;34m,\u001b[0m \u001b[0mclasses\u001b[0m\u001b[0;34m=\u001b[0m\u001b[0mcls\u001b[0m\u001b[0;34m,\u001b[0m \u001b[0my\u001b[0m\u001b[0;34m=\u001b[0m\u001b[0my_\u001b[0m\u001b[0;34m)\u001b[0m\u001b[0;34m\u001b[0m\u001b[0;34m\u001b[0m\u001b[0m\n",
            "\u001b[0;32m/usr/local/lib/python3.11/dist-packages/sklearn/utils/multiclass.py\u001b[0m in \u001b[0;36mcheck_classification_targets\u001b[0;34m(y)\u001b[0m\n\u001b[1;32m    220\u001b[0m         \u001b[0;34m\"multilabel-sequences\"\u001b[0m\u001b[0;34m,\u001b[0m\u001b[0;34m\u001b[0m\u001b[0;34m\u001b[0m\u001b[0m\n\u001b[1;32m    221\u001b[0m     ]:\n\u001b[0;32m--> 222\u001b[0;31m         raise ValueError(\n\u001b[0m\u001b[1;32m    223\u001b[0m             \u001b[0;34mf\"Unknown label type: {y_type}. Maybe you are trying to fit a \"\u001b[0m\u001b[0;34m\u001b[0m\u001b[0;34m\u001b[0m\u001b[0m\n\u001b[1;32m    224\u001b[0m             \u001b[0;34m\"classifier, which expects discrete classes on a \"\u001b[0m\u001b[0;34m\u001b[0m\u001b[0;34m\u001b[0m\u001b[0m\n",
            "\u001b[0;31mValueError\u001b[0m: Unknown label type: continuous. Maybe you are trying to fit a classifier, which expects discrete classes on a regression target with continuous values."
          ]
        }
      ]
    },
    {
      "cell_type": "code",
      "source": [
        "#9\n",
        "#from sklearn.multiclass import OneVsRestClassifier, OneVsOneClassifier\n",
        "\n",
        "#for clf in [OneVsRestClassifier(SVC()), OneVsOneClassifier(SVC())]:\n",
        "#    clf.fit(X_train, y_train)\n",
        "#    print(type(clf).__name__, \"Accuracy:\", clf.score(X_test, y_test))\n"
      ],
      "metadata": {
        "id": "vpFx-b3jR3Ml"
      },
      "execution_count": 12,
      "outputs": []
    },
    {
      "cell_type": "code",
      "source": [
        "#10\n",
        "from sklearn.model_selection import StratifiedKFold, cross_val_score\n",
        "\n",
        "skf = StratifiedKFold(n_splits=5)\n",
        "scores = cross_val_score(SVC(), X, y, cv=skf)\n",
        "print(\"Average Accuracy:\", scores.mean())\n"
      ],
      "metadata": {
        "colab": {
          "base_uri": "https://localhost:8080/"
        },
        "id": "_9QBZKh1SBLE",
        "outputId": "9cab0acc-a9ee-4252-a079-c71b636c6155"
      },
      "execution_count": 13,
      "outputs": [
        {
          "output_type": "stream",
          "name": "stdout",
          "text": [
            "Average Accuracy: 0.95\n"
          ]
        }
      ]
    },
    {
      "cell_type": "code",
      "source": [
        "#11\n",
        "#from sklearn.metrics import classification_report\n",
        "\n",
        "#model = SVC()\n",
        "#model.fit(X_train, y_train)\n",
        "#y_pred = model.predict(X_test)\n",
        "\n",
        "#print(classification_report(y_test, y_pred))\n"
      ],
      "metadata": {
        "id": "sluE50kNSNCV"
      },
      "execution_count": 15,
      "outputs": []
    },
    {
      "cell_type": "code",
      "source": [
        "#12\n",
        "#from sklearn.metrics import confusion_matrix\n",
        "#import seaborn as sns\n",
        "\n",
        "#cm = confusion_matrix(y_test, y_pred)\n",
        "#sns.heatmap(cm, annot=True)\n",
        "#plt.title(\"Confusion Matrix\")\n",
        "#plt.show()\n"
      ],
      "metadata": {
        "id": "oFkt5sF2SRT8"
      },
      "execution_count": 17,
      "outputs": []
    },
    {
      "cell_type": "code",
      "source": [
        "#13\n",
        "#from sklearn.metrics import roc_auc_score, roc_curve\n",
        "\n",
        "#model = SVC(probability=True)\n",
        "#model.fit(X_train, y_train)\n",
        "#y_prob = model.predict_proba(X_test)[:, 1]\n",
        "\n",
        "#fpr, tpr, _ = roc_curve(y_test, y_prob)\n",
        "#plt.plot(fpr, tpr)\n",
        "#plt.title(\"ROC Curve\")\n",
        "#plt.xlabel(\"False Positive Rate\")\n",
        "#plt.ylabel(\"True Positive Rate\")\n",
        "#plt.show()\n"
      ],
      "metadata": {
        "id": "N7EJ2dT2SVrN"
      },
      "execution_count": 20,
      "outputs": []
    },
    {
      "cell_type": "code",
      "source": [
        "#14\n",
        "from sklearn.datasets import load_breast_cancer\n",
        "from sklearn.naive_bayes import GaussianNB\n",
        "\n",
        "X, y = load_breast_cancer(return_X_y=True)\n",
        "model = GaussianNB()\n",
        "model.fit(X, y)\n",
        "print(\"Accuracy:\", model.score(X, y))\n"
      ],
      "metadata": {
        "colab": {
          "base_uri": "https://localhost:8080/"
        },
        "id": "kWd3xH0VSbWL",
        "outputId": "00abc915-ed31-4b70-fc8e-7d4326e57c8e"
      },
      "execution_count": 31,
      "outputs": [
        {
          "output_type": "stream",
          "name": "stdout",
          "text": [
            "Accuracy: 0.9420035149384886\n"
          ]
        }
      ]
    },
    {
      "cell_type": "code",
      "source": [
        "#15\n",
        "from sklearn.datasets import fetch_20newsgroups\n",
        "from sklearn.feature_extraction.text import CountVectorizer\n",
        "from sklearn.naive_bayes import MultinomialNB\n",
        "\n",
        "data = fetch_20newsgroups(subset='train', categories=['sci.med', 'sci.space'])\n",
        "X = CountVectorizer().fit_transform(data.data)\n",
        "y = data.target\n",
        "\n",
        "model = MultinomialNB()\n",
        "model.fit(X, y)\n",
        "print(\"Accuracy:\", model.score(X, y))\n"
      ],
      "metadata": {
        "colab": {
          "base_uri": "https://localhost:8080/"
        },
        "id": "PuRyGfNbSncZ",
        "outputId": "5de7d5fd-ffb1-47e9-e6b0-6b99565482da"
      },
      "execution_count": 32,
      "outputs": [
        {
          "output_type": "stream",
          "name": "stdout",
          "text": [
            "Accuracy: 0.9991575400168492\n"
          ]
        }
      ]
    },
    {
      "cell_type": "code",
      "source": [
        "#16\n",
        "from sklearn.naive_bayes import BernoulliNB\n",
        "import numpy as np\n",
        "\n",
        "X = np.random.randint(2, size=(100, 10))\n",
        "y = np.random.randint(2, size=100)\n",
        "\n",
        "model = BernoulliNB()\n",
        "model.fit(X, y)\n",
        "print(\"Accuracy:\", model.score(X, y))\n"
      ],
      "metadata": {
        "colab": {
          "base_uri": "https://localhost:8080/"
        },
        "id": "2LA0s_-TSprB",
        "outputId": "65fb938d-461c-4cc6-a3f0-1dc65e9080af"
      },
      "execution_count": 33,
      "outputs": [
        {
          "output_type": "stream",
          "name": "stdout",
          "text": [
            "Accuracy: 0.68\n"
          ]
        }
      ]
    },
    {
      "cell_type": "code",
      "source": [
        "#17\n",
        "model1 = MultinomialNB(alpha=1.0)  # with Laplace smoothing\n",
        "model2 = MultinomialNB(alpha=0.0)  # no smoothing\n",
        "\n",
        "model1.fit(X, y)\n",
        "model2.fit(X, y)\n",
        "\n",
        "print(\"With smoothing:\", model1.score(X, y))\n",
        "print(\"Without smoothing:\", model2.score(X, y))\n"
      ],
      "metadata": {
        "colab": {
          "base_uri": "https://localhost:8080/"
        },
        "id": "84JTAsdkSqRa",
        "outputId": "b645be94-48bb-4669-bde4-169f2ac06bbe"
      },
      "execution_count": 34,
      "outputs": [
        {
          "output_type": "stream",
          "name": "stdout",
          "text": [
            "With smoothing: 0.66\n",
            "Without smoothing: 0.66\n"
          ]
        }
      ]
    },
    {
      "cell_type": "code",
      "source": [
        "#18\n",
        "# You need a spam email dataset\n",
        "from sklearn.feature_extraction.text import CountVectorizer\n",
        "from sklearn.naive_bayes import MultinomialNB\n",
        "\n",
        "emails = [\"Win money now\", \"Hi friend, let's meet\", \"Get free rewards\", \"Project update\"]\n",
        "labels = [1, 0, 1, 0]\n",
        "\n",
        "X = CountVectorizer().fit_transform(emails)\n",
        "model = MultinomialNB()\n",
        "model.fit(X, labels)\n",
        "print(\"Prediction:\", model.predict(X))\n"
      ],
      "metadata": {
        "colab": {
          "base_uri": "https://localhost:8080/"
        },
        "id": "Wpr0nTgaSq_e",
        "outputId": "380fb8af-f1db-41bf-91a4-87fd0160a3ef"
      },
      "execution_count": 35,
      "outputs": [
        {
          "output_type": "stream",
          "name": "stdout",
          "text": [
            "Prediction: [1 0 1 0]\n"
          ]
        }
      ]
    },
    {
      "cell_type": "code",
      "source": [
        "#19\n",
        "#nb = GaussianNB()\n",
        "#svm = SVC()\n",
        "\n",
        "#nb.fit(X_train, y_train)\n",
        "#svm.fit(X_train, y_train)\n",
        "\n",
        "#print(\"Naïve Bayes Accuracy:\", nb.score(X_test, y_test))\n",
        "#print(\"SVM Accuracy:\", svm.score(X_test, y_test))\n"
      ],
      "metadata": {
        "id": "47E99j0jSsPp"
      },
      "execution_count": 37,
      "outputs": []
    },
    {
      "cell_type": "code",
      "source": [
        "#20\n",
        "#from sklearn.feature_selection import SelectKBest, chi2\n",
        "\n",
        "#X_new = SelectKBest(chi2, k=10).fit_transform(X, y)\n",
        "#model = GaussianNB()\n",
        "#model.fit(X_new, y)\n",
        "#print(\"Accuracy:\", model.score(X_new, y))\n"
      ],
      "metadata": {
        "id": "KjXp2AIUStrW"
      },
      "execution_count": 39,
      "outputs": []
    },
    {
      "cell_type": "code",
      "source": [
        "#21\n",
        "#model = GaussianNB(priors=[0.3, 0.7])\n",
        "#model.fit(X_train, y_train)\n",
        "#print(\"Accuracy:\", model.score(X_test, y_test))\n"
      ],
      "metadata": {
        "id": "YZ88VvlnSudk"
      },
      "execution_count": 41,
      "outputs": []
    },
    {
      "cell_type": "code",
      "source": [
        "#22\n",
        "#from sklearn.metrics import log_loss\n",
        "\n",
        "#y_prob = model.predict_proba(X_test)\n",
        "#print(\"Log Loss:\", log_loss(y_test, y_prob))\n"
      ],
      "metadata": {
        "id": "qav7P917Sv-A"
      },
      "execution_count": 44,
      "outputs": []
    },
    {
      "cell_type": "code",
      "source": [
        "#23\n",
        "#from sklearn.metrics import roc_auc_score\n",
        "\n",
        "#y_prob = model.predict_proba(X_test)[:, 1]\n",
        "#print(\"ROC-AUC Score:\", roc_auc_score(y_test, y_prob))\n"
      ],
      "metadata": {
        "id": "YXUwz-VFSwrz"
      },
      "execution_count": 45,
      "outputs": []
    },
    {
      "cell_type": "code",
      "source": [],
      "metadata": {
        "id": "38dVKOjUSxmp"
      },
      "execution_count": null,
      "outputs": []
    }
  ]
}